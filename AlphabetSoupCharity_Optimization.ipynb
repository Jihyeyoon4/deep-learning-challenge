{
 "cells": [
  {
   "cell_type": "markdown",
   "metadata": {
    "id": "7pi1k1d5DekN"
   },
   "source": [
    "## Preprocessing"
   ]
  },
  {
   "cell_type": "code",
   "execution_count": 1,
   "metadata": {
    "colab": {
     "base_uri": "https://localhost:8080/",
     "height": 452
    },
    "executionInfo": {
     "elapsed": 528,
     "status": "ok",
     "timestamp": 1699475703938,
     "user": {
      "displayName": "jihye yoon",
      "userId": "01790618438999502952"
     },
     "user_tz": 300
    },
    "id": "wB0q54TLDekO",
    "outputId": "903453b8-5d17-4112-8e37-e147699faa23"
   },
   "outputs": [
    {
     "data": {
      "text/html": [
       "<div>\n",
       "<style scoped>\n",
       "    .dataframe tbody tr th:only-of-type {\n",
       "        vertical-align: middle;\n",
       "    }\n",
       "\n",
       "    .dataframe tbody tr th {\n",
       "        vertical-align: top;\n",
       "    }\n",
       "\n",
       "    .dataframe thead th {\n",
       "        text-align: right;\n",
       "    }\n",
       "</style>\n",
       "<table border=\"1\" class=\"dataframe\">\n",
       "  <thead>\n",
       "    <tr style=\"text-align: right;\">\n",
       "      <th></th>\n",
       "      <th>EIN</th>\n",
       "      <th>NAME</th>\n",
       "      <th>APPLICATION_TYPE</th>\n",
       "      <th>AFFILIATION</th>\n",
       "      <th>CLASSIFICATION</th>\n",
       "      <th>USE_CASE</th>\n",
       "      <th>ORGANIZATION</th>\n",
       "      <th>STATUS</th>\n",
       "      <th>INCOME_AMT</th>\n",
       "      <th>SPECIAL_CONSIDERATIONS</th>\n",
       "      <th>ASK_AMT</th>\n",
       "      <th>IS_SUCCESSFUL</th>\n",
       "    </tr>\n",
       "  </thead>\n",
       "  <tbody>\n",
       "    <tr>\n",
       "      <th>0</th>\n",
       "      <td>10520599</td>\n",
       "      <td>BLUE KNIGHTS MOTORCYCLE CLUB</td>\n",
       "      <td>T10</td>\n",
       "      <td>Independent</td>\n",
       "      <td>C1000</td>\n",
       "      <td>ProductDev</td>\n",
       "      <td>Association</td>\n",
       "      <td>1</td>\n",
       "      <td>0</td>\n",
       "      <td>N</td>\n",
       "      <td>5000</td>\n",
       "      <td>1</td>\n",
       "    </tr>\n",
       "    <tr>\n",
       "      <th>1</th>\n",
       "      <td>10531628</td>\n",
       "      <td>AMERICAN CHESAPEAKE CLUB CHARITABLE TR</td>\n",
       "      <td>T3</td>\n",
       "      <td>Independent</td>\n",
       "      <td>C2000</td>\n",
       "      <td>Preservation</td>\n",
       "      <td>Co-operative</td>\n",
       "      <td>1</td>\n",
       "      <td>1-9999</td>\n",
       "      <td>N</td>\n",
       "      <td>108590</td>\n",
       "      <td>1</td>\n",
       "    </tr>\n",
       "    <tr>\n",
       "      <th>2</th>\n",
       "      <td>10547893</td>\n",
       "      <td>ST CLOUD PROFESSIONAL FIREFIGHTERS</td>\n",
       "      <td>T5</td>\n",
       "      <td>CompanySponsored</td>\n",
       "      <td>C3000</td>\n",
       "      <td>ProductDev</td>\n",
       "      <td>Association</td>\n",
       "      <td>1</td>\n",
       "      <td>0</td>\n",
       "      <td>N</td>\n",
       "      <td>5000</td>\n",
       "      <td>0</td>\n",
       "    </tr>\n",
       "    <tr>\n",
       "      <th>3</th>\n",
       "      <td>10553066</td>\n",
       "      <td>SOUTHSIDE ATHLETIC ASSOCIATION</td>\n",
       "      <td>T3</td>\n",
       "      <td>CompanySponsored</td>\n",
       "      <td>C2000</td>\n",
       "      <td>Preservation</td>\n",
       "      <td>Trust</td>\n",
       "      <td>1</td>\n",
       "      <td>10000-24999</td>\n",
       "      <td>N</td>\n",
       "      <td>6692</td>\n",
       "      <td>1</td>\n",
       "    </tr>\n",
       "    <tr>\n",
       "      <th>4</th>\n",
       "      <td>10556103</td>\n",
       "      <td>GENETIC RESEARCH INSTITUTE OF THE DESERT</td>\n",
       "      <td>T3</td>\n",
       "      <td>Independent</td>\n",
       "      <td>C1000</td>\n",
       "      <td>Heathcare</td>\n",
       "      <td>Trust</td>\n",
       "      <td>1</td>\n",
       "      <td>100000-499999</td>\n",
       "      <td>N</td>\n",
       "      <td>142590</td>\n",
       "      <td>1</td>\n",
       "    </tr>\n",
       "  </tbody>\n",
       "</table>\n",
       "</div>"
      ],
      "text/plain": [
       "        EIN                                      NAME APPLICATION_TYPE  \\\n",
       "0  10520599              BLUE KNIGHTS MOTORCYCLE CLUB              T10   \n",
       "1  10531628    AMERICAN CHESAPEAKE CLUB CHARITABLE TR               T3   \n",
       "2  10547893        ST CLOUD PROFESSIONAL FIREFIGHTERS               T5   \n",
       "3  10553066            SOUTHSIDE ATHLETIC ASSOCIATION               T3   \n",
       "4  10556103  GENETIC RESEARCH INSTITUTE OF THE DESERT               T3   \n",
       "\n",
       "        AFFILIATION CLASSIFICATION      USE_CASE  ORGANIZATION  STATUS  \\\n",
       "0       Independent          C1000    ProductDev   Association       1   \n",
       "1       Independent          C2000  Preservation  Co-operative       1   \n",
       "2  CompanySponsored          C3000    ProductDev   Association       1   \n",
       "3  CompanySponsored          C2000  Preservation         Trust       1   \n",
       "4       Independent          C1000     Heathcare         Trust       1   \n",
       "\n",
       "      INCOME_AMT SPECIAL_CONSIDERATIONS  ASK_AMT  IS_SUCCESSFUL  \n",
       "0              0                      N     5000              1  \n",
       "1         1-9999                      N   108590              1  \n",
       "2              0                      N     5000              0  \n",
       "3    10000-24999                      N     6692              1  \n",
       "4  100000-499999                      N   142590              1  "
      ]
     },
     "execution_count": 1,
     "metadata": {},
     "output_type": "execute_result"
    }
   ],
   "source": [
    "# Import our dependencies\n",
    "from sklearn.model_selection import train_test_split\n",
    "from sklearn.preprocessing import StandardScaler\n",
    "import pandas as pd\n",
    "import tensorflow as tf\n",
    "\n",
    "#  Import and read the charity_data.csv.\n",
    "import pandas as pd\n",
    "application_df = pd.read_csv(\"https://static.bc-edx.com/data/dl-1-2/m21/lms/starter/charity_data.csv\")\n",
    "application_df.head()"
   ]
  },
  {
   "cell_type": "code",
   "execution_count": 2,
   "metadata": {
    "executionInfo": {
     "elapsed": 138,
     "status": "ok",
     "timestamp": 1699475706519,
     "user": {
      "displayName": "jihye yoon",
      "userId": "01790618438999502952"
     },
     "user_tz": 300
    },
    "id": "U1dEg8RjDekQ"
   },
   "outputs": [],
   "source": [
    "# Drop the non-beneficial ID columns, 'EIN' and 'NAME'.\n",
    "application_df=application_df.drop(['EIN','NAME'],axis=1)"
   ]
  },
  {
   "cell_type": "code",
   "execution_count": 3,
   "metadata": {
    "colab": {
     "base_uri": "https://localhost:8080/"
    },
    "executionInfo": {
     "elapsed": 282,
     "status": "ok",
     "timestamp": 1699475708264,
     "user": {
      "displayName": "jihye yoon",
      "userId": "01790618438999502952"
     },
     "user_tz": 300
    },
    "id": "TbfYLPQ5DekR",
    "outputId": "12a1f7a6-83ab-4ab9-9d4d-95f907f7fd3c"
   },
   "outputs": [
    {
     "name": "stdout",
     "output_type": "stream",
     "text": [
      "APPLICATION_TYPE            17\n",
      "AFFILIATION                  6\n",
      "CLASSIFICATION              71\n",
      "USE_CASE                     5\n",
      "ORGANIZATION                 4\n",
      "STATUS                       2\n",
      "INCOME_AMT                   9\n",
      "SPECIAL_CONSIDERATIONS       2\n",
      "ASK_AMT                   8747\n",
      "IS_SUCCESSFUL                2\n",
      "dtype: int64\n"
     ]
    }
   ],
   "source": [
    "# Determine the number of unique values in each column.\n",
    "unique_value_counts = application_df.nunique()\n",
    "print(unique_value_counts)"
   ]
  },
  {
   "cell_type": "code",
   "execution_count": 4,
   "metadata": {
    "colab": {
     "base_uri": "https://localhost:8080/"
    },
    "executionInfo": {
     "elapsed": 194,
     "status": "ok",
     "timestamp": 1699475710908,
     "user": {
      "displayName": "jihye yoon",
      "userId": "01790618438999502952"
     },
     "user_tz": 300
    },
    "id": "DhU1ZOKjDekR",
    "outputId": "ffdf870e-83d8-4216-f33e-d39c94e9929a"
   },
   "outputs": [
    {
     "name": "stdout",
     "output_type": "stream",
     "text": [
      "T3     27037\n",
      "T4      1542\n",
      "T6      1216\n",
      "T5      1173\n",
      "T19     1065\n",
      "T8       737\n",
      "T7       725\n",
      "T10      528\n",
      "T9       156\n",
      "T13       66\n",
      "T12       27\n",
      "T2        16\n",
      "T25        3\n",
      "T14        3\n",
      "T29        2\n",
      "T15        2\n",
      "T17        1\n",
      "Name: APPLICATION_TYPE, dtype: int64\n"
     ]
    }
   ],
   "source": [
    "# Look at APPLICATION_TYPE value counts for binning\n",
    "application_type_counts = application_df['APPLICATION_TYPE'].value_counts()\n",
    "print(application_type_counts)"
   ]
  },
  {
   "cell_type": "code",
   "execution_count": 5,
   "metadata": {
    "colab": {
     "base_uri": "https://localhost:8080/"
    },
    "executionInfo": {
     "elapsed": 160,
     "status": "ok",
     "timestamp": 1699475712988,
     "user": {
      "displayName": "jihye yoon",
      "userId": "01790618438999502952"
     },
     "user_tz": 300
    },
    "id": "GVKfzmUSDekS",
    "outputId": "2ca42ec3-5d7f-43af-cf86-871fb4a8458c"
   },
   "outputs": [
    {
     "name": "stdout",
     "output_type": "stream",
     "text": [
      "['Other', 'T3', 'T4', 'T6', 'T5', 'T19', 'T8', 'T7', 'T10', 'T9', 'T13']\n"
     ]
    },
    {
     "data": {
      "text/plain": [
       "Other    34299\n",
       "Name: APPLICATION_TYPE, dtype: int64"
      ]
     },
     "execution_count": 5,
     "metadata": {},
     "output_type": "execute_result"
    }
   ],
   "source": [
    "# Choose a cutoff value and create a list of application types to be replaced\n",
    "# use the variable name `application_types_to_replace`\n",
    "cutoff_value = 10\n",
    "top_application_types = application_type_counts[:cutoff_value].index.tolist()\n",
    "application_df['APPLICATION_TYPE'] = application_df['APPLICATION_TYPE'].apply(lambda x: x if x in top_application_types else 'Other')\n",
    "application_types_to_replace = ['Other'] + top_application_types\n",
    "print(application_types_to_replace)\n",
    "# Replace in dataframe\n",
    "for app in application_types_to_replace:\n",
    "    application_df['APPLICATION_TYPE'] = application_df['APPLICATION_TYPE'].replace(app,\"Other\")\n",
    "\n",
    "# Check to make sure binning was successful\n",
    "application_df['APPLICATION_TYPE'].value_counts()"
   ]
  },
  {
   "cell_type": "code",
   "execution_count": 6,
   "metadata": {
    "colab": {
     "base_uri": "https://localhost:8080/"
    },
    "executionInfo": {
     "elapsed": 130,
     "status": "ok",
     "timestamp": 1699475714995,
     "user": {
      "displayName": "jihye yoon",
      "userId": "01790618438999502952"
     },
     "user_tz": 300
    },
    "id": "Za5QSJ2tDekS",
    "outputId": "bbf36df3-bcbe-4664-93bb-6860d638fd34"
   },
   "outputs": [
    {
     "name": "stdout",
     "output_type": "stream",
     "text": [
      "C1000    17326\n",
      "C2000     6074\n",
      "C1200     4837\n",
      "C3000     1918\n",
      "C2100     1883\n",
      "         ...  \n",
      "C4120        1\n",
      "C8210        1\n",
      "C2561        1\n",
      "C4500        1\n",
      "C2150        1\n",
      "Name: CLASSIFICATION, Length: 71, dtype: int64\n"
     ]
    }
   ],
   "source": [
    "# Look at CLASSIFICATION value counts for binning\n",
    "classification_counts = application_df['CLASSIFICATION'].value_counts()\n",
    "print(classification_counts)"
   ]
  },
  {
   "cell_type": "code",
   "execution_count": 7,
   "metadata": {
    "colab": {
     "base_uri": "https://localhost:8080/"
    },
    "executionInfo": {
     "elapsed": 115,
     "status": "ok",
     "timestamp": 1699475717075,
     "user": {
      "displayName": "jihye yoon",
      "userId": "01790618438999502952"
     },
     "user_tz": 300
    },
    "id": "fcgCyZqsDekT",
    "outputId": "580d6cb8-1944-439a-86a8-2c922ac17df0"
   },
   "outputs": [
    {
     "name": "stdout",
     "output_type": "stream",
     "text": [
      "C1000    17326\n",
      "C2000     6074\n",
      "C1200     4837\n",
      "C3000     1918\n",
      "C2100     1883\n",
      "C7000      777\n",
      "C1700      287\n",
      "C4000      194\n",
      "C5000      116\n",
      "C1270      114\n",
      "C2700      104\n",
      "C2800       95\n",
      "C7100       75\n",
      "C1300       58\n",
      "C1280       50\n",
      "C1230       36\n",
      "C1400       34\n",
      "C7200       32\n",
      "C2300       32\n",
      "C1240       30\n",
      "C8000       20\n",
      "C7120       18\n",
      "C1500       16\n",
      "C1800       15\n",
      "C6000       15\n",
      "C1250       14\n",
      "C8200       11\n",
      "C1238       10\n",
      "C1278       10\n",
      "C1235        9\n",
      "C1237        9\n",
      "C7210        7\n",
      "C2400        6\n",
      "C1720        6\n",
      "C4100        6\n",
      "C1257        5\n",
      "C1600        5\n",
      "C1260        3\n",
      "C2710        3\n",
      "C0           3\n",
      "C3200        2\n",
      "C1234        2\n",
      "C1246        2\n",
      "C1267        2\n",
      "C1256        2\n",
      "Name: CLASSIFICATION, dtype: int64\n"
     ]
    }
   ],
   "source": [
    "# You may find it helpful to look at CLASSIFICATION value counts >1\n",
    "classification_counts_greater_1 = classification_counts[classification_counts > 1]\n",
    "print(classification_counts_greater_1)\n"
   ]
  },
  {
   "cell_type": "code",
   "execution_count": 8,
   "metadata": {
    "colab": {
     "base_uri": "https://localhost:8080/"
    },
    "executionInfo": {
     "elapsed": 128,
     "status": "ok",
     "timestamp": 1699475719847,
     "user": {
      "displayName": "jihye yoon",
      "userId": "01790618438999502952"
     },
     "user_tz": 300
    },
    "id": "2R1vZKueDekT",
    "outputId": "44b6e8ea-9fc3-4ca3-cf58-d6150f1a0135"
   },
   "outputs": [
    {
     "name": "stdout",
     "output_type": "stream",
     "text": [
      "['Other', 'C1000', 'C2000', 'C1200', 'C3000', 'C2100', 'C7000', 'C1700', 'C4000', 'C5000', 'C1270']\n"
     ]
    },
    {
     "data": {
      "text/plain": [
       "Other    34299\n",
       "Name: CLASSIFICATION, dtype: int64"
      ]
     },
     "execution_count": 8,
     "metadata": {},
     "output_type": "execute_result"
    }
   ],
   "source": [
    "# Choose a cutoff value and create a list of classifications to be replaced\n",
    "# use the variable name `classifications_to_replace`\n",
    "cutoff_value = 10\n",
    "top_classifications = classification_counts[:cutoff_value].index.tolist()\n",
    "application_df['CLASSIFICATION'] = application_df['CLASSIFICATION'].apply(lambda x: x if x in top_classifications else 'Other')\n",
    "classifications_to_replace = ['Other'] + top_classifications\n",
    "\n",
    "print(classifications_to_replace)\n",
    "\n",
    "# Replace in dataframe\n",
    "for cls in classifications_to_replace:\n",
    "    application_df['CLASSIFICATION'] = application_df['CLASSIFICATION'].replace(cls,\"Other\")\n",
    "\n",
    "# Check to make sure binning was successful\n",
    "application_df['CLASSIFICATION'].value_counts()"
   ]
  },
  {
   "cell_type": "code",
   "execution_count": 9,
   "metadata": {
    "colab": {
     "base_uri": "https://localhost:8080/",
     "height": 273
    },
    "executionInfo": {
     "elapsed": 137,
     "status": "ok",
     "timestamp": 1699475722093,
     "user": {
      "displayName": "jihye yoon",
      "userId": "01790618438999502952"
     },
     "user_tz": 300
    },
    "id": "a_CjU7QDDekU",
    "outputId": "06ff788e-08c7-48e7-fbd7-74c685c58f08"
   },
   "outputs": [
    {
     "data": {
      "text/html": [
       "<div>\n",
       "<style scoped>\n",
       "    .dataframe tbody tr th:only-of-type {\n",
       "        vertical-align: middle;\n",
       "    }\n",
       "\n",
       "    .dataframe tbody tr th {\n",
       "        vertical-align: top;\n",
       "    }\n",
       "\n",
       "    .dataframe thead th {\n",
       "        text-align: right;\n",
       "    }\n",
       "</style>\n",
       "<table border=\"1\" class=\"dataframe\">\n",
       "  <thead>\n",
       "    <tr style=\"text-align: right;\">\n",
       "      <th></th>\n",
       "      <th>STATUS</th>\n",
       "      <th>ASK_AMT</th>\n",
       "      <th>IS_SUCCESSFUL</th>\n",
       "      <th>APPLICATION_TYPE_Other</th>\n",
       "      <th>AFFILIATION_CompanySponsored</th>\n",
       "      <th>AFFILIATION_Family/Parent</th>\n",
       "      <th>AFFILIATION_Independent</th>\n",
       "      <th>AFFILIATION_National</th>\n",
       "      <th>AFFILIATION_Other</th>\n",
       "      <th>AFFILIATION_Regional</th>\n",
       "      <th>...</th>\n",
       "      <th>INCOME_AMT_1-9999</th>\n",
       "      <th>INCOME_AMT_10000-24999</th>\n",
       "      <th>INCOME_AMT_100000-499999</th>\n",
       "      <th>INCOME_AMT_10M-50M</th>\n",
       "      <th>INCOME_AMT_1M-5M</th>\n",
       "      <th>INCOME_AMT_25000-99999</th>\n",
       "      <th>INCOME_AMT_50M+</th>\n",
       "      <th>INCOME_AMT_5M-10M</th>\n",
       "      <th>SPECIAL_CONSIDERATIONS_N</th>\n",
       "      <th>SPECIAL_CONSIDERATIONS_Y</th>\n",
       "    </tr>\n",
       "  </thead>\n",
       "  <tbody>\n",
       "    <tr>\n",
       "      <th>0</th>\n",
       "      <td>1</td>\n",
       "      <td>5000</td>\n",
       "      <td>1</td>\n",
       "      <td>1.0</td>\n",
       "      <td>0.0</td>\n",
       "      <td>0.0</td>\n",
       "      <td>1.0</td>\n",
       "      <td>0.0</td>\n",
       "      <td>0.0</td>\n",
       "      <td>0.0</td>\n",
       "      <td>...</td>\n",
       "      <td>0.0</td>\n",
       "      <td>0.0</td>\n",
       "      <td>0.0</td>\n",
       "      <td>0.0</td>\n",
       "      <td>0.0</td>\n",
       "      <td>0.0</td>\n",
       "      <td>0.0</td>\n",
       "      <td>0.0</td>\n",
       "      <td>1.0</td>\n",
       "      <td>0.0</td>\n",
       "    </tr>\n",
       "    <tr>\n",
       "      <th>1</th>\n",
       "      <td>1</td>\n",
       "      <td>108590</td>\n",
       "      <td>1</td>\n",
       "      <td>1.0</td>\n",
       "      <td>0.0</td>\n",
       "      <td>0.0</td>\n",
       "      <td>1.0</td>\n",
       "      <td>0.0</td>\n",
       "      <td>0.0</td>\n",
       "      <td>0.0</td>\n",
       "      <td>...</td>\n",
       "      <td>1.0</td>\n",
       "      <td>0.0</td>\n",
       "      <td>0.0</td>\n",
       "      <td>0.0</td>\n",
       "      <td>0.0</td>\n",
       "      <td>0.0</td>\n",
       "      <td>0.0</td>\n",
       "      <td>0.0</td>\n",
       "      <td>1.0</td>\n",
       "      <td>0.0</td>\n",
       "    </tr>\n",
       "    <tr>\n",
       "      <th>2</th>\n",
       "      <td>1</td>\n",
       "      <td>5000</td>\n",
       "      <td>0</td>\n",
       "      <td>1.0</td>\n",
       "      <td>1.0</td>\n",
       "      <td>0.0</td>\n",
       "      <td>0.0</td>\n",
       "      <td>0.0</td>\n",
       "      <td>0.0</td>\n",
       "      <td>0.0</td>\n",
       "      <td>...</td>\n",
       "      <td>0.0</td>\n",
       "      <td>0.0</td>\n",
       "      <td>0.0</td>\n",
       "      <td>0.0</td>\n",
       "      <td>0.0</td>\n",
       "      <td>0.0</td>\n",
       "      <td>0.0</td>\n",
       "      <td>0.0</td>\n",
       "      <td>1.0</td>\n",
       "      <td>0.0</td>\n",
       "    </tr>\n",
       "    <tr>\n",
       "      <th>3</th>\n",
       "      <td>1</td>\n",
       "      <td>6692</td>\n",
       "      <td>1</td>\n",
       "      <td>1.0</td>\n",
       "      <td>1.0</td>\n",
       "      <td>0.0</td>\n",
       "      <td>0.0</td>\n",
       "      <td>0.0</td>\n",
       "      <td>0.0</td>\n",
       "      <td>0.0</td>\n",
       "      <td>...</td>\n",
       "      <td>0.0</td>\n",
       "      <td>1.0</td>\n",
       "      <td>0.0</td>\n",
       "      <td>0.0</td>\n",
       "      <td>0.0</td>\n",
       "      <td>0.0</td>\n",
       "      <td>0.0</td>\n",
       "      <td>0.0</td>\n",
       "      <td>1.0</td>\n",
       "      <td>0.0</td>\n",
       "    </tr>\n",
       "    <tr>\n",
       "      <th>4</th>\n",
       "      <td>1</td>\n",
       "      <td>142590</td>\n",
       "      <td>1</td>\n",
       "      <td>1.0</td>\n",
       "      <td>0.0</td>\n",
       "      <td>0.0</td>\n",
       "      <td>1.0</td>\n",
       "      <td>0.0</td>\n",
       "      <td>0.0</td>\n",
       "      <td>0.0</td>\n",
       "      <td>...</td>\n",
       "      <td>0.0</td>\n",
       "      <td>0.0</td>\n",
       "      <td>1.0</td>\n",
       "      <td>0.0</td>\n",
       "      <td>0.0</td>\n",
       "      <td>0.0</td>\n",
       "      <td>0.0</td>\n",
       "      <td>0.0</td>\n",
       "      <td>1.0</td>\n",
       "      <td>0.0</td>\n",
       "    </tr>\n",
       "  </tbody>\n",
       "</table>\n",
       "<p>5 rows × 31 columns</p>\n",
       "</div>"
      ],
      "text/plain": [
       "   STATUS  ASK_AMT  IS_SUCCESSFUL  APPLICATION_TYPE_Other  \\\n",
       "0       1     5000              1                     1.0   \n",
       "1       1   108590              1                     1.0   \n",
       "2       1     5000              0                     1.0   \n",
       "3       1     6692              1                     1.0   \n",
       "4       1   142590              1                     1.0   \n",
       "\n",
       "   AFFILIATION_CompanySponsored  AFFILIATION_Family/Parent  \\\n",
       "0                           0.0                        0.0   \n",
       "1                           0.0                        0.0   \n",
       "2                           1.0                        0.0   \n",
       "3                           1.0                        0.0   \n",
       "4                           0.0                        0.0   \n",
       "\n",
       "   AFFILIATION_Independent  AFFILIATION_National  AFFILIATION_Other  \\\n",
       "0                      1.0                   0.0                0.0   \n",
       "1                      1.0                   0.0                0.0   \n",
       "2                      0.0                   0.0                0.0   \n",
       "3                      0.0                   0.0                0.0   \n",
       "4                      1.0                   0.0                0.0   \n",
       "\n",
       "   AFFILIATION_Regional  ...  INCOME_AMT_1-9999  INCOME_AMT_10000-24999  \\\n",
       "0                   0.0  ...                0.0                     0.0   \n",
       "1                   0.0  ...                1.0                     0.0   \n",
       "2                   0.0  ...                0.0                     0.0   \n",
       "3                   0.0  ...                0.0                     1.0   \n",
       "4                   0.0  ...                0.0                     0.0   \n",
       "\n",
       "   INCOME_AMT_100000-499999  INCOME_AMT_10M-50M  INCOME_AMT_1M-5M  \\\n",
       "0                       0.0                 0.0               0.0   \n",
       "1                       0.0                 0.0               0.0   \n",
       "2                       0.0                 0.0               0.0   \n",
       "3                       0.0                 0.0               0.0   \n",
       "4                       1.0                 0.0               0.0   \n",
       "\n",
       "   INCOME_AMT_25000-99999  INCOME_AMT_50M+  INCOME_AMT_5M-10M  \\\n",
       "0                     0.0              0.0                0.0   \n",
       "1                     0.0              0.0                0.0   \n",
       "2                     0.0              0.0                0.0   \n",
       "3                     0.0              0.0                0.0   \n",
       "4                     0.0              0.0                0.0   \n",
       "\n",
       "   SPECIAL_CONSIDERATIONS_N  SPECIAL_CONSIDERATIONS_Y  \n",
       "0                       1.0                       0.0  \n",
       "1                       1.0                       0.0  \n",
       "2                       1.0                       0.0  \n",
       "3                       1.0                       0.0  \n",
       "4                       1.0                       0.0  \n",
       "\n",
       "[5 rows x 31 columns]"
      ]
     },
     "execution_count": 9,
     "metadata": {},
     "output_type": "execute_result"
    }
   ],
   "source": [
    "# Convert categorical data to numeric with `pd.get_dummies`\n",
    "application_df = pd.get_dummies(application_df,dtype=float)\n",
    "application_df.head()\n"
   ]
  },
  {
   "cell_type": "code",
   "execution_count": 10,
   "metadata": {
    "colab": {
     "base_uri": "https://localhost:8080/"
    },
    "executionInfo": {
     "elapsed": 139,
     "status": "ok",
     "timestamp": 1699475724103,
     "user": {
      "displayName": "jihye yoon",
      "userId": "01790618438999502952"
     },
     "user_tz": 300
    },
    "id": "wRHWbOkGDekU",
    "outputId": "9dc67376-a8d2-418f-9ae3-3c0726614dde"
   },
   "outputs": [
    {
     "name": "stdout",
     "output_type": "stream",
     "text": [
      "Training set (X_train):\n",
      "[[1.e+00 5.e+03 1.e+00 ... 0.e+00 1.e+00 0.e+00]\n",
      " [1.e+00 5.e+03 1.e+00 ... 0.e+00 1.e+00 0.e+00]\n",
      " [1.e+00 5.e+03 1.e+00 ... 0.e+00 1.e+00 0.e+00]\n",
      " ...\n",
      " [1.e+00 5.e+03 1.e+00 ... 0.e+00 1.e+00 0.e+00]\n",
      " [1.e+00 5.e+03 1.e+00 ... 0.e+00 1.e+00 0.e+00]\n",
      " [1.e+00 5.e+03 1.e+00 ... 0.e+00 1.e+00 0.e+00]]\n",
      "\n",
      "Testing set (X_test):\n",
      "[[1.0000e+00 5.0087e+04 1.0000e+00 ... 0.0000e+00 1.0000e+00 0.0000e+00]\n",
      " [1.0000e+00 5.0000e+03 1.0000e+00 ... 0.0000e+00 1.0000e+00 0.0000e+00]\n",
      " [1.0000e+00 5.0000e+03 1.0000e+00 ... 0.0000e+00 1.0000e+00 0.0000e+00]\n",
      " ...\n",
      " [1.0000e+00 5.0000e+03 1.0000e+00 ... 0.0000e+00 1.0000e+00 0.0000e+00]\n",
      " [1.0000e+00 5.7522e+04 1.0000e+00 ... 0.0000e+00 1.0000e+00 0.0000e+00]\n",
      " [1.0000e+00 5.0000e+03 1.0000e+00 ... 0.0000e+00 1.0000e+00 0.0000e+00]]\n",
      "\n",
      "Training labels (y_train):\n",
      "[0 1 1 ... 0 1 0]\n",
      "\n",
      "Testing labels (y_test):\n",
      "[1 1 0 ... 1 0 0]\n"
     ]
    }
   ],
   "source": [
    "# Split our preprocessed data into our features and target arrays\n",
    "X = application_df.drop('IS_SUCCESSFUL', axis=1).values\n",
    "y = application_df['IS_SUCCESSFUL'].values\n",
    "\n",
    "\n",
    "\n",
    "# Split the preprocessed data into a training and testing dataset\n",
    "X_train, X_test, y_train, y_test = train_test_split(X, y, random_state=42)\n",
    "print(\"Training set (X_train):\")\n",
    "print(X_train)\n",
    "print(\"\\nTesting set (X_test):\")\n",
    "print(X_test)\n",
    "print(\"\\nTraining labels (y_train):\")\n",
    "print(y_train)\n",
    "print(\"\\nTesting labels (y_test):\")\n",
    "print(y_test)\n"
   ]
  },
  {
   "cell_type": "code",
   "execution_count": 12,
   "metadata": {
    "executionInfo": {
     "elapsed": 130,
     "status": "ok",
     "timestamp": 1699475726661,
     "user": {
      "displayName": "jihye yoon",
      "userId": "01790618438999502952"
     },
     "user_tz": 300
    },
    "id": "NyhB7larDekV"
   },
   "outputs": [],
   "source": [
    "\n",
    "Scaler = StandardScaler()\n",
    "\n",
    "\n",
    "# Fit the StandardScaler\n",
    "\n",
    "X_scaler= Scaler.fit(X_train)\n",
    "\n",
    "# Scale the data\n",
    "X_train_scaled = X_scaler.transform(X_train)\n",
    "X_test_scaled = X_scaler.transform(X_test)"
   ]
  },
  {
   "cell_type": "markdown",
   "metadata": {
    "id": "r8HoHri3P4-2"
   },
   "source": []
  },
  {
   "cell_type": "code",
   "execution_count": 13,
   "metadata": {
    "colab": {
     "base_uri": "https://localhost:8080/"
    },
    "executionInfo": {
     "elapsed": 356,
     "status": "ok",
     "timestamp": 1699476114229,
     "user": {
      "displayName": "jihye yoon",
      "userId": "01790618438999502952"
     },
     "user_tz": 300
    },
    "id": "6x81pC7PDekV",
    "outputId": "d8ae0879-6592-4b4e-96da-0ca529be6b5a"
   },
   "outputs": [
    {
     "name": "stdout",
     "output_type": "stream",
     "text": [
      "Model: \"sequential\"\n",
      "_________________________________________________________________\n",
      " Layer (type)                Output Shape              Param #   \n",
      "=================================================================\n",
      " dense (Dense)               (None, 7)                 217       \n",
      "                                                                 \n",
      " dense_1 (Dense)             (None, 14)                112       \n",
      "                                                                 \n",
      " dense_2 (Dense)             (None, 1)                 15        \n",
      "                                                                 \n",
      "=================================================================\n",
      "Total params: 344 (1.34 KB)\n",
      "Trainable params: 344 (1.34 KB)\n",
      "Non-trainable params: 0 (0.00 Byte)\n",
      "_________________________________________________________________\n"
     ]
    }
   ],
   "source": [
    "# Define the model - deep neural net, i.e., the number of input features and hidden nodes for each layer.\n",
    "number_input_features = X_train_scaled.shape[1]\n",
    "hidden_nodes_layer1=7\n",
    "hidden_nodes_layer2=14\n",
    "\n",
    "nn = tf.keras.models.Sequential()\n",
    "\n",
    "\n",
    "\n",
    "# First hidden layer\n",
    "nn.add(tf.keras.layers.Dense(units=hidden_nodes_layer1, input_dim=number_input_features, activation='relu'))\n",
    "\n",
    "# Second hidden layer\n",
    "nn.add(tf.keras.layers.Dense(units=hidden_nodes_layer2, activation='relu'))\n",
    "\n",
    "# Output layer\n",
    "nn.add(tf.keras.layers.Dense(units=1, activation='sigmoid'))\n",
    "\n",
    "# Check the structure of the model\n",
    "nn.summary()\n"
   ]
  },
  {
   "cell_type": "code",
   "execution_count": 14,
   "metadata": {
    "executionInfo": {
     "elapsed": 137,
     "status": "ok",
     "timestamp": 1699476117638,
     "user": {
      "displayName": "jihye yoon",
      "userId": "01790618438999502952"
     },
     "user_tz": 300
    },
    "id": "8ZLIqx9HDekV"
   },
   "outputs": [],
   "source": [
    "# Compile the model\n",
    "nn.compile(loss = 'binary_crossentropy', optimizer = 'adam', metrics=['accuracy'])"
   ]
  },
  {
   "cell_type": "code",
   "execution_count": 15,
   "metadata": {
    "colab": {
     "base_uri": "https://localhost:8080/"
    },
    "executionInfo": {
     "elapsed": 203097,
     "status": "ok",
     "timestamp": 1699476322015,
     "user": {
      "displayName": "jihye yoon",
      "userId": "01790618438999502952"
     },
     "user_tz": 300
    },
    "id": "4ieEo5H8DekV",
    "outputId": "7041d35f-8cd6-4ab6-aca7-1a426db9dc13"
   },
   "outputs": [
    {
     "name": "stdout",
     "output_type": "stream",
     "text": [
      "Epoch 1/100\n",
      "684/684 [==============================] - 1s 583us/step - loss: 0.6560 - accuracy: 0.6420 - val_loss: 0.6015 - val_accuracy: 0.6893\n",
      "Epoch 2/100\n",
      "684/684 [==============================] - 0s 486us/step - loss: 0.6106 - accuracy: 0.6876 - val_loss: 0.5932 - val_accuracy: 0.7074\n",
      "Epoch 3/100\n",
      "684/684 [==============================] - 0s 518us/step - loss: 0.6065 - accuracy: 0.6956 - val_loss: 0.5906 - val_accuracy: 0.7061\n",
      "Epoch 4/100\n",
      "684/684 [==============================] - 0s 481us/step - loss: 0.6049 - accuracy: 0.6953 - val_loss: 0.5902 - val_accuracy: 0.7090\n",
      "Epoch 5/100\n",
      "684/684 [==============================] - 0s 483us/step - loss: 0.6042 - accuracy: 0.6953 - val_loss: 0.5896 - val_accuracy: 0.7116\n",
      "Epoch 6/100\n",
      "684/684 [==============================] - 0s 482us/step - loss: 0.6032 - accuracy: 0.6957 - val_loss: 0.5893 - val_accuracy: 0.7116\n",
      "Epoch 7/100\n",
      "684/684 [==============================] - 0s 501us/step - loss: 0.6026 - accuracy: 0.6952 - val_loss: 0.5883 - val_accuracy: 0.7113\n",
      "Epoch 8/100\n",
      "684/684 [==============================] - 0s 482us/step - loss: 0.6022 - accuracy: 0.6962 - val_loss: 0.5880 - val_accuracy: 0.7126\n",
      "Epoch 9/100\n",
      "684/684 [==============================] - 0s 480us/step - loss: 0.6020 - accuracy: 0.6965 - val_loss: 0.5888 - val_accuracy: 0.7111\n",
      "Epoch 10/100\n",
      "684/684 [==============================] - 0s 481us/step - loss: 0.6016 - accuracy: 0.6969 - val_loss: 0.5895 - val_accuracy: 0.7064\n",
      "Epoch 11/100\n",
      "684/684 [==============================] - 0s 483us/step - loss: 0.6014 - accuracy: 0.6953 - val_loss: 0.5890 - val_accuracy: 0.7116\n",
      "Epoch 12/100\n",
      "684/684 [==============================] - 0s 477us/step - loss: 0.6011 - accuracy: 0.6977 - val_loss: 0.5885 - val_accuracy: 0.7116\n",
      "Epoch 13/100\n",
      "684/684 [==============================] - 0s 498us/step - loss: 0.6007 - accuracy: 0.6973 - val_loss: 0.5887 - val_accuracy: 0.7080\n",
      "Epoch 14/100\n",
      "684/684 [==============================] - 0s 484us/step - loss: 0.6010 - accuracy: 0.6968 - val_loss: 0.5881 - val_accuracy: 0.7082\n",
      "Epoch 15/100\n",
      "684/684 [==============================] - 0s 479us/step - loss: 0.6006 - accuracy: 0.6984 - val_loss: 0.5884 - val_accuracy: 0.7108\n",
      "Epoch 16/100\n",
      "684/684 [==============================] - 0s 479us/step - loss: 0.6004 - accuracy: 0.6976 - val_loss: 0.5885 - val_accuracy: 0.7103\n",
      "Epoch 17/100\n",
      "684/684 [==============================] - 0s 484us/step - loss: 0.6007 - accuracy: 0.6969 - val_loss: 0.5884 - val_accuracy: 0.7100\n",
      "Epoch 18/100\n",
      "684/684 [==============================] - 0s 482us/step - loss: 0.6007 - accuracy: 0.6975 - val_loss: 0.5877 - val_accuracy: 0.7095\n",
      "Epoch 19/100\n",
      "684/684 [==============================] - 0s 490us/step - loss: 0.6003 - accuracy: 0.6984 - val_loss: 0.5886 - val_accuracy: 0.7100\n",
      "Epoch 20/100\n",
      "684/684 [==============================] - 0s 486us/step - loss: 0.6001 - accuracy: 0.6971 - val_loss: 0.5883 - val_accuracy: 0.7085\n",
      "Epoch 21/100\n",
      "684/684 [==============================] - 0s 479us/step - loss: 0.6003 - accuracy: 0.6980 - val_loss: 0.5893 - val_accuracy: 0.7077\n",
      "Epoch 22/100\n",
      "684/684 [==============================] - 0s 487us/step - loss: 0.6004 - accuracy: 0.6975 - val_loss: 0.5886 - val_accuracy: 0.7100\n",
      "Epoch 23/100\n",
      "684/684 [==============================] - 0s 480us/step - loss: 0.6002 - accuracy: 0.6978 - val_loss: 0.5880 - val_accuracy: 0.7131\n",
      "Epoch 24/100\n",
      "684/684 [==============================] - 0s 481us/step - loss: 0.6002 - accuracy: 0.6979 - val_loss: 0.5886 - val_accuracy: 0.7095\n",
      "Epoch 25/100\n",
      "684/684 [==============================] - 0s 484us/step - loss: 0.6003 - accuracy: 0.6973 - val_loss: 0.5882 - val_accuracy: 0.7108\n",
      "Epoch 26/100\n",
      "684/684 [==============================] - 0s 487us/step - loss: 0.5999 - accuracy: 0.6980 - val_loss: 0.5888 - val_accuracy: 0.7087\n",
      "Epoch 27/100\n",
      "684/684 [==============================] - 0s 492us/step - loss: 0.6003 - accuracy: 0.6987 - val_loss: 0.5875 - val_accuracy: 0.7103\n",
      "Epoch 28/100\n",
      "684/684 [==============================] - 0s 495us/step - loss: 0.5997 - accuracy: 0.6989 - val_loss: 0.5896 - val_accuracy: 0.7108\n",
      "Epoch 29/100\n",
      "684/684 [==============================] - 0s 482us/step - loss: 0.5999 - accuracy: 0.6991 - val_loss: 0.5886 - val_accuracy: 0.7061\n",
      "Epoch 30/100\n",
      "684/684 [==============================] - 0s 482us/step - loss: 0.6000 - accuracy: 0.6974 - val_loss: 0.5880 - val_accuracy: 0.7087\n",
      "Epoch 31/100\n",
      "684/684 [==============================] - 0s 488us/step - loss: 0.5998 - accuracy: 0.6987 - val_loss: 0.5880 - val_accuracy: 0.7108\n",
      "Epoch 32/100\n",
      "684/684 [==============================] - 0s 495us/step - loss: 0.5999 - accuracy: 0.6984 - val_loss: 0.5884 - val_accuracy: 0.7124\n",
      "Epoch 33/100\n",
      "684/684 [==============================] - 0s 491us/step - loss: 0.6000 - accuracy: 0.6981 - val_loss: 0.5887 - val_accuracy: 0.7105\n",
      "Epoch 34/100\n",
      "684/684 [==============================] - 0s 495us/step - loss: 0.5998 - accuracy: 0.6987 - val_loss: 0.5887 - val_accuracy: 0.7129\n",
      "Epoch 35/100\n",
      "684/684 [==============================] - 0s 496us/step - loss: 0.5996 - accuracy: 0.7001 - val_loss: 0.5887 - val_accuracy: 0.7080\n",
      "Epoch 36/100\n",
      "684/684 [==============================] - 0s 496us/step - loss: 0.5999 - accuracy: 0.6988 - val_loss: 0.5887 - val_accuracy: 0.7100\n",
      "Epoch 37/100\n",
      "684/684 [==============================] - 0s 486us/step - loss: 0.5997 - accuracy: 0.6985 - val_loss: 0.5884 - val_accuracy: 0.7113\n",
      "Epoch 38/100\n",
      "684/684 [==============================] - 0s 490us/step - loss: 0.5997 - accuracy: 0.6993 - val_loss: 0.5888 - val_accuracy: 0.7095\n",
      "Epoch 39/100\n",
      "684/684 [==============================] - 0s 485us/step - loss: 0.5998 - accuracy: 0.6987 - val_loss: 0.5883 - val_accuracy: 0.7111\n",
      "Epoch 40/100\n",
      "684/684 [==============================] - 0s 488us/step - loss: 0.5998 - accuracy: 0.6992 - val_loss: 0.5891 - val_accuracy: 0.7100\n",
      "Epoch 41/100\n",
      "684/684 [==============================] - 0s 492us/step - loss: 0.5997 - accuracy: 0.6989 - val_loss: 0.5882 - val_accuracy: 0.7100\n",
      "Epoch 42/100\n",
      "684/684 [==============================] - 0s 489us/step - loss: 0.5997 - accuracy: 0.6986 - val_loss: 0.5883 - val_accuracy: 0.7074\n",
      "Epoch 43/100\n",
      "684/684 [==============================] - 0s 486us/step - loss: 0.5997 - accuracy: 0.6986 - val_loss: 0.5886 - val_accuracy: 0.7124\n",
      "Epoch 44/100\n",
      "684/684 [==============================] - 0s 491us/step - loss: 0.5996 - accuracy: 0.6986 - val_loss: 0.5887 - val_accuracy: 0.7105\n",
      "Epoch 45/100\n",
      "684/684 [==============================] - 0s 485us/step - loss: 0.5996 - accuracy: 0.6993 - val_loss: 0.5891 - val_accuracy: 0.7118\n",
      "Epoch 46/100\n",
      "684/684 [==============================] - 0s 486us/step - loss: 0.5996 - accuracy: 0.6987 - val_loss: 0.5883 - val_accuracy: 0.7098\n",
      "Epoch 47/100\n",
      "684/684 [==============================] - 0s 485us/step - loss: 0.5997 - accuracy: 0.6987 - val_loss: 0.5884 - val_accuracy: 0.7129\n",
      "Epoch 48/100\n",
      "684/684 [==============================] - 0s 486us/step - loss: 0.5995 - accuracy: 0.6999 - val_loss: 0.5889 - val_accuracy: 0.7105\n",
      "Epoch 49/100\n",
      "684/684 [==============================] - 0s 488us/step - loss: 0.5996 - accuracy: 0.6983 - val_loss: 0.5895 - val_accuracy: 0.7121\n",
      "Epoch 50/100\n",
      "684/684 [==============================] - 0s 503us/step - loss: 0.5995 - accuracy: 0.6982 - val_loss: 0.5886 - val_accuracy: 0.7111\n",
      "Epoch 51/100\n",
      "684/684 [==============================] - 0s 522us/step - loss: 0.5996 - accuracy: 0.6979 - val_loss: 0.5895 - val_accuracy: 0.7095\n",
      "Epoch 52/100\n",
      "684/684 [==============================] - 0s 498us/step - loss: 0.5996 - accuracy: 0.7000 - val_loss: 0.5883 - val_accuracy: 0.7103\n",
      "Epoch 53/100\n",
      "684/684 [==============================] - 0s 493us/step - loss: 0.5992 - accuracy: 0.6992 - val_loss: 0.5891 - val_accuracy: 0.7093\n",
      "Epoch 54/100\n",
      "684/684 [==============================] - 0s 492us/step - loss: 0.5995 - accuracy: 0.6993 - val_loss: 0.5884 - val_accuracy: 0.7100\n",
      "Epoch 55/100\n",
      "684/684 [==============================] - 0s 493us/step - loss: 0.5992 - accuracy: 0.6997 - val_loss: 0.5896 - val_accuracy: 0.7056\n",
      "Epoch 56/100\n",
      "684/684 [==============================] - 0s 488us/step - loss: 0.5995 - accuracy: 0.6988 - val_loss: 0.5883 - val_accuracy: 0.7098\n",
      "Epoch 57/100\n"
     ]
    },
    {
     "name": "stdout",
     "output_type": "stream",
     "text": [
      "684/684 [==============================] - 0s 479us/step - loss: 0.5995 - accuracy: 0.6985 - val_loss: 0.5878 - val_accuracy: 0.7116\n",
      "Epoch 58/100\n",
      "684/684 [==============================] - 0s 487us/step - loss: 0.5992 - accuracy: 0.6984 - val_loss: 0.5899 - val_accuracy: 0.7113\n",
      "Epoch 59/100\n",
      "684/684 [==============================] - 0s 477us/step - loss: 0.5992 - accuracy: 0.6989 - val_loss: 0.5882 - val_accuracy: 0.7124\n",
      "Epoch 60/100\n",
      "684/684 [==============================] - 0s 486us/step - loss: 0.5991 - accuracy: 0.6987 - val_loss: 0.5895 - val_accuracy: 0.7059\n",
      "Epoch 61/100\n",
      "684/684 [==============================] - 0s 486us/step - loss: 0.5993 - accuracy: 0.7001 - val_loss: 0.5879 - val_accuracy: 0.7100\n",
      "Epoch 62/100\n",
      "684/684 [==============================] - 0s 478us/step - loss: 0.5992 - accuracy: 0.6995 - val_loss: 0.5882 - val_accuracy: 0.7080\n",
      "Epoch 63/100\n",
      "684/684 [==============================] - 0s 475us/step - loss: 0.5993 - accuracy: 0.6990 - val_loss: 0.5894 - val_accuracy: 0.7067\n",
      "Epoch 64/100\n",
      "684/684 [==============================] - 0s 476us/step - loss: 0.5992 - accuracy: 0.6983 - val_loss: 0.5885 - val_accuracy: 0.7116\n",
      "Epoch 65/100\n",
      "684/684 [==============================] - 0s 477us/step - loss: 0.5987 - accuracy: 0.6997 - val_loss: 0.5881 - val_accuracy: 0.7105\n",
      "Epoch 66/100\n",
      "684/684 [==============================] - 0s 477us/step - loss: 0.5990 - accuracy: 0.7003 - val_loss: 0.5878 - val_accuracy: 0.7108\n",
      "Epoch 67/100\n",
      "684/684 [==============================] - 0s 488us/step - loss: 0.5989 - accuracy: 0.7001 - val_loss: 0.5882 - val_accuracy: 0.7069\n",
      "Epoch 68/100\n",
      "684/684 [==============================] - 0s 479us/step - loss: 0.5989 - accuracy: 0.7005 - val_loss: 0.5888 - val_accuracy: 0.7100\n",
      "Epoch 69/100\n",
      "684/684 [==============================] - 0s 480us/step - loss: 0.5987 - accuracy: 0.6998 - val_loss: 0.5888 - val_accuracy: 0.7080\n",
      "Epoch 70/100\n",
      "684/684 [==============================] - 0s 550us/step - loss: 0.5990 - accuracy: 0.6991 - val_loss: 0.5883 - val_accuracy: 0.7093\n",
      "Epoch 71/100\n",
      "684/684 [==============================] - 0s 480us/step - loss: 0.5988 - accuracy: 0.6999 - val_loss: 0.5893 - val_accuracy: 0.7116\n",
      "Epoch 72/100\n",
      "684/684 [==============================] - 0s 479us/step - loss: 0.5988 - accuracy: 0.6997 - val_loss: 0.5893 - val_accuracy: 0.7100\n",
      "Epoch 73/100\n",
      "684/684 [==============================] - 0s 478us/step - loss: 0.5985 - accuracy: 0.6992 - val_loss: 0.5885 - val_accuracy: 0.7113\n",
      "Epoch 74/100\n",
      "684/684 [==============================] - 0s 490us/step - loss: 0.5990 - accuracy: 0.7008 - val_loss: 0.5880 - val_accuracy: 0.7105\n",
      "Epoch 75/100\n",
      "684/684 [==============================] - 0s 480us/step - loss: 0.5985 - accuracy: 0.7003 - val_loss: 0.5893 - val_accuracy: 0.7080\n",
      "Epoch 76/100\n",
      "684/684 [==============================] - 0s 476us/step - loss: 0.5989 - accuracy: 0.6998 - val_loss: 0.5889 - val_accuracy: 0.7069\n",
      "Epoch 77/100\n",
      "684/684 [==============================] - 0s 478us/step - loss: 0.5985 - accuracy: 0.6994 - val_loss: 0.5900 - val_accuracy: 0.7100\n",
      "Epoch 78/100\n",
      "684/684 [==============================] - 0s 478us/step - loss: 0.5988 - accuracy: 0.7005 - val_loss: 0.5889 - val_accuracy: 0.7105\n",
      "Epoch 79/100\n",
      "684/684 [==============================] - 0s 478us/step - loss: 0.5987 - accuracy: 0.7007 - val_loss: 0.5890 - val_accuracy: 0.7100\n",
      "Epoch 80/100\n",
      "684/684 [==============================] - 0s 475us/step - loss: 0.5986 - accuracy: 0.7001 - val_loss: 0.5884 - val_accuracy: 0.7077\n",
      "Epoch 81/100\n",
      "684/684 [==============================] - 0s 478us/step - loss: 0.5984 - accuracy: 0.7001 - val_loss: 0.5901 - val_accuracy: 0.7116\n",
      "Epoch 82/100\n",
      "684/684 [==============================] - 0s 478us/step - loss: 0.5987 - accuracy: 0.7006 - val_loss: 0.5894 - val_accuracy: 0.7100\n",
      "Epoch 83/100\n",
      "684/684 [==============================] - 0s 476us/step - loss: 0.5987 - accuracy: 0.7002 - val_loss: 0.5891 - val_accuracy: 0.7098\n",
      "Epoch 84/100\n",
      "684/684 [==============================] - 0s 476us/step - loss: 0.5986 - accuracy: 0.7001 - val_loss: 0.5881 - val_accuracy: 0.7116\n",
      "Epoch 85/100\n",
      "684/684 [==============================] - 0s 487us/step - loss: 0.5984 - accuracy: 0.7001 - val_loss: 0.5893 - val_accuracy: 0.7090\n",
      "Epoch 86/100\n",
      "684/684 [==============================] - 0s 479us/step - loss: 0.5983 - accuracy: 0.7000 - val_loss: 0.5885 - val_accuracy: 0.7100\n",
      "Epoch 87/100\n",
      "684/684 [==============================] - 0s 507us/step - loss: 0.5986 - accuracy: 0.7000 - val_loss: 0.5877 - val_accuracy: 0.7111\n",
      "Epoch 88/100\n",
      "684/684 [==============================] - 0s 495us/step - loss: 0.5983 - accuracy: 0.7003 - val_loss: 0.5902 - val_accuracy: 0.7098\n",
      "Epoch 89/100\n",
      "684/684 [==============================] - 0s 494us/step - loss: 0.5984 - accuracy: 0.7002 - val_loss: 0.5886 - val_accuracy: 0.7100\n",
      "Epoch 90/100\n",
      "684/684 [==============================] - 0s 529us/step - loss: 0.5985 - accuracy: 0.6996 - val_loss: 0.5878 - val_accuracy: 0.7108\n",
      "Epoch 91/100\n",
      "684/684 [==============================] - 0s 522us/step - loss: 0.5985 - accuracy: 0.7000 - val_loss: 0.5886 - val_accuracy: 0.7105\n",
      "Epoch 92/100\n",
      "684/684 [==============================] - 0s 511us/step - loss: 0.5984 - accuracy: 0.7008 - val_loss: 0.5886 - val_accuracy: 0.7116\n",
      "Epoch 93/100\n",
      "684/684 [==============================] - 0s 499us/step - loss: 0.5983 - accuracy: 0.7003 - val_loss: 0.5879 - val_accuracy: 0.7082\n",
      "Epoch 94/100\n",
      "684/684 [==============================] - 0s 492us/step - loss: 0.5985 - accuracy: 0.6995 - val_loss: 0.5888 - val_accuracy: 0.7090\n",
      "Epoch 95/100\n",
      "684/684 [==============================] - 0s 523us/step - loss: 0.5985 - accuracy: 0.7001 - val_loss: 0.5880 - val_accuracy: 0.7111\n",
      "Epoch 96/100\n",
      "684/684 [==============================] - 0s 573us/step - loss: 0.5985 - accuracy: 0.7005 - val_loss: 0.5889 - val_accuracy: 0.7087\n",
      "Epoch 97/100\n",
      "684/684 [==============================] - 0s 557us/step - loss: 0.5983 - accuracy: 0.7003 - val_loss: 0.5879 - val_accuracy: 0.7100\n",
      "Epoch 98/100\n",
      "684/684 [==============================] - 0s 614us/step - loss: 0.5986 - accuracy: 0.6995 - val_loss: 0.5893 - val_accuracy: 0.7098\n",
      "Epoch 99/100\n",
      "684/684 [==============================] - 0s 517us/step - loss: 0.5982 - accuracy: 0.6997 - val_loss: 0.5887 - val_accuracy: 0.7067\n",
      "Epoch 100/100\n",
      "684/684 [==============================] - 0s 477us/step - loss: 0.5984 - accuracy: 0.6999 - val_loss: 0.5886 - val_accuracy: 0.7074\n"
     ]
    }
   ],
   "source": [
    "# Train the model\n",
    "\n",
    "fit_model = nn.fit(X_train_scaled,y_train,validation_split=0.15, epochs=100)"
   ]
  },
  {
   "cell_type": "code",
   "execution_count": 16,
   "metadata": {
    "colab": {
     "base_uri": "https://localhost:8080/"
    },
    "executionInfo": {
     "elapsed": 567,
     "status": "ok",
     "timestamp": 1699475962854,
     "user": {
      "displayName": "jihye yoon",
      "userId": "01790618438999502952"
     },
     "user_tz": 300
    },
    "id": "c4Y30q4uDekW",
    "outputId": "4ab1c903-80b9-41d7-c67e-fd688a9cd13f"
   },
   "outputs": [
    {
     "name": "stdout",
     "output_type": "stream",
     "text": [
      "268/268 - 0s - loss: 0.6023 - accuracy: 0.6953 - 79ms/epoch - 295us/step\n",
      "Loss: 0.602347731590271, Accuracy: 0.6952769756317139\n"
     ]
    }
   ],
   "source": [
    "# Evaluate the model using the test data\n",
    "model_loss, model_accuracy = nn.evaluate(X_test_scaled,y_test,verbose=2)\n",
    "print(f\"Loss: {model_loss}, Accuracy: {model_accuracy}\")"
   ]
  },
  {
   "cell_type": "code",
   "execution_count": 17,
   "metadata": {
    "colab": {
     "base_uri": "https://localhost:8080/"
    },
    "executionInfo": {
     "elapsed": 137,
     "status": "ok",
     "timestamp": 1699475964762,
     "user": {
      "displayName": "jihye yoon",
      "userId": "01790618438999502952"
     },
     "user_tz": 300
    },
    "id": "hoSZbh4uDekW",
    "outputId": "d29d6655-f8cb-4922-816c-1ea1d4a59155"
   },
   "outputs": [
    {
     "name": "stderr",
     "output_type": "stream",
     "text": [
      "/Users/sophieyoon/anaconda3/lib/python3.10/site-packages/keras/src/engine/training.py:3079: UserWarning: You are saving your model as an HDF5 file via `model.save()`. This file format is considered legacy. We recommend using instead the native Keras format, e.g. `model.save('my_model.keras')`.\n",
      "  saving_api.save_model(\n"
     ]
    }
   ],
   "source": [
    "# Export our model to HDF5 file\n",
    "nn.save('AlphabetSoupCharity.h5')\n"
   ]
  },
  {
   "cell_type": "code",
   "execution_count": null,
   "metadata": {},
   "outputs": [],
   "source": []
  }
 ],
 "metadata": {
  "colab": {
   "provenance": [],
   "toc_visible": true
  },
  "kernelspec": {
   "display_name": "Python 3 (ipykernel)",
   "language": "python",
   "name": "python3"
  },
  "language_info": {
   "codemirror_mode": {
    "name": "ipython",
    "version": 3
   },
   "file_extension": ".py",
   "mimetype": "text/x-python",
   "name": "python",
   "nbconvert_exporter": "python",
   "pygments_lexer": "ipython3",
   "version": "3.10.9"
  },
  "vscode": {
   "interpreter": {
    "hash": "31f2aee4e71d21fbe5cf8b01ff0e069b9275f58929596ceb00d14d90e3e16cd6"
   }
  }
 },
 "nbformat": 4,
 "nbformat_minor": 1
}
